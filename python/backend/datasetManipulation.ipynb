{
 "metadata": {
  "language_info": {
   "codemirror_mode": {
    "name": "ipython",
    "version": 3
   },
   "file_extension": ".py",
   "mimetype": "text/x-python",
   "name": "python",
   "nbconvert_exporter": "python",
   "pygments_lexer": "ipython3",
   "version": "3.8.3-final"
  },
  "orig_nbformat": 2,
  "kernelspec": {
   "name": "python3",
   "display_name": "Python 3.8.3 64-bit ('base': conda)",
   "metadata": {
    "interpreter": {
     "hash": "87de6031a74b0c9d7db81bfbde7da829a28e309f48cd08840b0d1e669ce135e6"
    }
   }
  }
 },
 "nbformat": 4,
 "nbformat_minor": 2,
 "cells": [
  {
   "cell_type": "code",
   "execution_count": 1,
   "metadata": {},
   "outputs": [],
   "source": [
    "import pandas as pd\n",
    "import numpy as np\n",
    "import matplotlib.pyplot as plt"
   ]
  },
  {
   "cell_type": "code",
   "execution_count": 5,
   "metadata": {},
   "outputs": [],
   "source": [
    "dataSetPath = \"/Users/tesfashenkute/Downloads/Paid_Parking__Last_48_Hours_.csv\"\n",
    "ds = pd.read_csv(dataSetPath, nrows = 10000)"
   ]
  },
  {
   "cell_type": "code",
   "execution_count": 6,
   "metadata": {},
   "outputs": [],
   "source": [
    "df = pd.DataFrame(ds)"
   ]
  },
  {
   "cell_type": "code",
   "execution_count": 7,
   "metadata": {},
   "outputs": [
    {
     "output_type": "execute_result",
     "data": {
      "text/plain": [
       "           OccupancyDateTime  PaidOccupancy  \\\n",
       "0     12/28/2020 11:19:00 AM              6   \n",
       "1     12/28/2020 11:54:00 AM              1   \n",
       "2     12/28/2020 01:30:00 PM              3   \n",
       "3     12/28/2020 04:02:00 PM              3   \n",
       "4     12/28/2020 06:07:00 PM              3   \n",
       "...                      ...            ...   \n",
       "9995  12/29/2020 08:28:00 AM              4   \n",
       "9996  12/29/2020 11:01:00 AM              2   \n",
       "9997  12/29/2020 09:47:00 AM              2   \n",
       "9998  12/29/2020 12:53:00 PM              1   \n",
       "9999  12/29/2020 10:04:00 AM              2   \n",
       "\n",
       "                                          BlockfaceName SideOfStreet  \\\n",
       "0       WESTLAKE AVE BETWEEN LENORA ST AND BLANCHARD ST            W   \n",
       "1             MARION ST BETWEEN BOREN AVE AND MINOR AVE           NW   \n",
       "2            8TH AVE BETWEEN STEWART ST AND VIRGINIA ST           NE   \n",
       "3               CLAY ST BETWEEN WESTERN AVE AND 1ST AVE           SE   \n",
       "4            5TH AVE BETWEEN LENORA ST AND BLANCHARD ST           NE   \n",
       "...                                                 ...          ...   \n",
       "9995  QUEEN ANNE AVE N BETWEEN HARRISON ST AND REPUB...            W   \n",
       "9996     MERCER ST BETWEEN MERCER SR ST AND MINOR AVE N            S   \n",
       "9997            E PIKE ST BETWEEN 10TH AVE AND 11TH AVE            S   \n",
       "9998      BOYLSTON AVE BETWEEN E PINE ST AND E OLIVE ST            W   \n",
       "9999    8TH AVE N BETWEEN HARRISON ST AND REPUBLICAN ST            E   \n",
       "\n",
       "      SourceElementKey  ParkingTimeLimitCategory  ParkingSpaceCount  \\\n",
       "0                36141                     240.0                  8   \n",
       "1                11673                     120.0                  4   \n",
       "2                31058                     120.0                  6   \n",
       "3                77574                     240.0                 14   \n",
       "4                 7262                     120.0                  7   \n",
       "...                ...                       ...                ...   \n",
       "9995             12285                     240.0                 13   \n",
       "9996            121340                     600.0                  2   \n",
       "9997             59962                     120.0                  7   \n",
       "9998             32177                     120.0                  5   \n",
       "9999             76202                     120.0                  3   \n",
       "\n",
       "       PaidParkingArea PaidParkingSubArea  PaidParkingRate  \\\n",
       "0       Denny Triangle              North              NaN   \n",
       "1           First Hill                NaN              NaN   \n",
       "2       Denny Triangle              South              NaN   \n",
       "3             Belltown              North              NaN   \n",
       "4             Belltown              South              NaN   \n",
       "...                ...                ...              ...   \n",
       "9995            Uptown               Edge              NaN   \n",
       "9996  South Lake Union              South              NaN   \n",
       "9997         Pike-Pine                NaN              NaN   \n",
       "9998      Capitol Hill              South              NaN   \n",
       "9999  South Lake Union              South              NaN   \n",
       "\n",
       "              ParkingCategory                           Location  \n",
       "0                Paid Parking  POINT (-122.33832365 47.61711289)  \n",
       "1                Paid Parking  POINT (-122.32393114 47.60890535)  \n",
       "2                Paid Parking  POINT (-122.33591854 47.61540116)  \n",
       "3                Paid Parking   POINT (-122.35191338 47.6159769)  \n",
       "4                Paid Parking  POINT (-122.34104117 47.61494039)  \n",
       "...                       ...                                ...  \n",
       "9995             Paid Parking  POINT (-122.35680987 47.62267511)  \n",
       "9996             Paid Parking  POINT (-122.33342324 47.62422099)  \n",
       "9997             Paid Parking   POINT (-122.3187867 47.61401857)  \n",
       "9998  Restricted Parking Zone  POINT (-122.32352842 47.61581966)  \n",
       "9999             Paid Parking   POINT (-122.3409512 47.62266064)  \n",
       "\n",
       "[10000 rows x 12 columns]"
      ],
      "text/html": "<div>\n<style scoped>\n    .dataframe tbody tr th:only-of-type {\n        vertical-align: middle;\n    }\n\n    .dataframe tbody tr th {\n        vertical-align: top;\n    }\n\n    .dataframe thead th {\n        text-align: right;\n    }\n</style>\n<table border=\"1\" class=\"dataframe\">\n  <thead>\n    <tr style=\"text-align: right;\">\n      <th></th>\n      <th>OccupancyDateTime</th>\n      <th>PaidOccupancy</th>\n      <th>BlockfaceName</th>\n      <th>SideOfStreet</th>\n      <th>SourceElementKey</th>\n      <th>ParkingTimeLimitCategory</th>\n      <th>ParkingSpaceCount</th>\n      <th>PaidParkingArea</th>\n      <th>PaidParkingSubArea</th>\n      <th>PaidParkingRate</th>\n      <th>ParkingCategory</th>\n      <th>Location</th>\n    </tr>\n  </thead>\n  <tbody>\n    <tr>\n      <th>0</th>\n      <td>12/28/2020 11:19:00 AM</td>\n      <td>6</td>\n      <td>WESTLAKE AVE BETWEEN LENORA ST AND BLANCHARD ST</td>\n      <td>W</td>\n      <td>36141</td>\n      <td>240.0</td>\n      <td>8</td>\n      <td>Denny Triangle</td>\n      <td>North</td>\n      <td>NaN</td>\n      <td>Paid Parking</td>\n      <td>POINT (-122.33832365 47.61711289)</td>\n    </tr>\n    <tr>\n      <th>1</th>\n      <td>12/28/2020 11:54:00 AM</td>\n      <td>1</td>\n      <td>MARION ST BETWEEN BOREN AVE AND MINOR AVE</td>\n      <td>NW</td>\n      <td>11673</td>\n      <td>120.0</td>\n      <td>4</td>\n      <td>First Hill</td>\n      <td>NaN</td>\n      <td>NaN</td>\n      <td>Paid Parking</td>\n      <td>POINT (-122.32393114 47.60890535)</td>\n    </tr>\n    <tr>\n      <th>2</th>\n      <td>12/28/2020 01:30:00 PM</td>\n      <td>3</td>\n      <td>8TH AVE BETWEEN STEWART ST AND VIRGINIA ST</td>\n      <td>NE</td>\n      <td>31058</td>\n      <td>120.0</td>\n      <td>6</td>\n      <td>Denny Triangle</td>\n      <td>South</td>\n      <td>NaN</td>\n      <td>Paid Parking</td>\n      <td>POINT (-122.33591854 47.61540116)</td>\n    </tr>\n    <tr>\n      <th>3</th>\n      <td>12/28/2020 04:02:00 PM</td>\n      <td>3</td>\n      <td>CLAY ST BETWEEN WESTERN AVE AND 1ST AVE</td>\n      <td>SE</td>\n      <td>77574</td>\n      <td>240.0</td>\n      <td>14</td>\n      <td>Belltown</td>\n      <td>North</td>\n      <td>NaN</td>\n      <td>Paid Parking</td>\n      <td>POINT (-122.35191338 47.6159769)</td>\n    </tr>\n    <tr>\n      <th>4</th>\n      <td>12/28/2020 06:07:00 PM</td>\n      <td>3</td>\n      <td>5TH AVE BETWEEN LENORA ST AND BLANCHARD ST</td>\n      <td>NE</td>\n      <td>7262</td>\n      <td>120.0</td>\n      <td>7</td>\n      <td>Belltown</td>\n      <td>South</td>\n      <td>NaN</td>\n      <td>Paid Parking</td>\n      <td>POINT (-122.34104117 47.61494039)</td>\n    </tr>\n    <tr>\n      <th>...</th>\n      <td>...</td>\n      <td>...</td>\n      <td>...</td>\n      <td>...</td>\n      <td>...</td>\n      <td>...</td>\n      <td>...</td>\n      <td>...</td>\n      <td>...</td>\n      <td>...</td>\n      <td>...</td>\n      <td>...</td>\n    </tr>\n    <tr>\n      <th>9995</th>\n      <td>12/29/2020 08:28:00 AM</td>\n      <td>4</td>\n      <td>QUEEN ANNE AVE N BETWEEN HARRISON ST AND REPUB...</td>\n      <td>W</td>\n      <td>12285</td>\n      <td>240.0</td>\n      <td>13</td>\n      <td>Uptown</td>\n      <td>Edge</td>\n      <td>NaN</td>\n      <td>Paid Parking</td>\n      <td>POINT (-122.35680987 47.62267511)</td>\n    </tr>\n    <tr>\n      <th>9996</th>\n      <td>12/29/2020 11:01:00 AM</td>\n      <td>2</td>\n      <td>MERCER ST BETWEEN MERCER SR ST AND MINOR AVE N</td>\n      <td>S</td>\n      <td>121340</td>\n      <td>600.0</td>\n      <td>2</td>\n      <td>South Lake Union</td>\n      <td>South</td>\n      <td>NaN</td>\n      <td>Paid Parking</td>\n      <td>POINT (-122.33342324 47.62422099)</td>\n    </tr>\n    <tr>\n      <th>9997</th>\n      <td>12/29/2020 09:47:00 AM</td>\n      <td>2</td>\n      <td>E PIKE ST BETWEEN 10TH AVE AND 11TH AVE</td>\n      <td>S</td>\n      <td>59962</td>\n      <td>120.0</td>\n      <td>7</td>\n      <td>Pike-Pine</td>\n      <td>NaN</td>\n      <td>NaN</td>\n      <td>Paid Parking</td>\n      <td>POINT (-122.3187867 47.61401857)</td>\n    </tr>\n    <tr>\n      <th>9998</th>\n      <td>12/29/2020 12:53:00 PM</td>\n      <td>1</td>\n      <td>BOYLSTON AVE BETWEEN E PINE ST AND E OLIVE ST</td>\n      <td>W</td>\n      <td>32177</td>\n      <td>120.0</td>\n      <td>5</td>\n      <td>Capitol Hill</td>\n      <td>South</td>\n      <td>NaN</td>\n      <td>Restricted Parking Zone</td>\n      <td>POINT (-122.32352842 47.61581966)</td>\n    </tr>\n    <tr>\n      <th>9999</th>\n      <td>12/29/2020 10:04:00 AM</td>\n      <td>2</td>\n      <td>8TH AVE N BETWEEN HARRISON ST AND REPUBLICAN ST</td>\n      <td>E</td>\n      <td>76202</td>\n      <td>120.0</td>\n      <td>3</td>\n      <td>South Lake Union</td>\n      <td>South</td>\n      <td>NaN</td>\n      <td>Paid Parking</td>\n      <td>POINT (-122.3409512 47.62266064)</td>\n    </tr>\n  </tbody>\n</table>\n<p>10000 rows × 12 columns</p>\n</div>"
     },
     "metadata": {},
     "execution_count": 7
    }
   ],
   "source": [
    "df"
   ]
  },
  {
   "cell_type": "code",
   "execution_count": 13,
   "metadata": {},
   "outputs": [],
   "source": [
    "dict = {'BlockFaceName': [\"WESTLAKE AVE BETWEEN LENORA ST AND BLANCHARD ST\"]}"
   ]
  },
  {
   "cell_type": "code",
   "execution_count": 15,
   "metadata": {},
   "outputs": [],
   "source": [
    "WESTLAKEAVE = pd.DataFrame(dict)"
   ]
  },
  {
   "cell_type": "code",
   "execution_count": 16,
   "metadata": {},
   "outputs": [
    {
     "output_type": "error",
     "ename": "TypeError",
     "evalue": "'method' object is not iterable",
     "traceback": [
      "\u001b[0;31m---------------------------------------------------------------------------\u001b[0m",
      "\u001b[0;31mTypeError\u001b[0m                                 Traceback (most recent call last)",
      "\u001b[0;32m<ipython-input-16-5d3a4c95dc17>\u001b[0m in \u001b[0;36m<module>\u001b[0;34m\u001b[0m\n\u001b[0;32m----> 1\u001b[0;31m \u001b[0;32mfor\u001b[0m \u001b[0mi\u001b[0m \u001b[0;34m,\u001b[0m \u001b[0mj\u001b[0m \u001b[0;32min\u001b[0m \u001b[0mdf\u001b[0m\u001b[0;34m.\u001b[0m\u001b[0miterrows\u001b[0m\u001b[0;34m:\u001b[0m\u001b[0;34m\u001b[0m\u001b[0;34m\u001b[0m\u001b[0m\n\u001b[0m\u001b[1;32m      2\u001b[0m     \u001b[0mWESTLAKEAVE\u001b[0m\u001b[0;34m.\u001b[0m\u001b[0madd\u001b[0m\u001b[0;34m(\u001b[0m\u001b[0mi\u001b[0m\u001b[0;34m,\u001b[0m \u001b[0mj\u001b[0m\u001b[0;34m)\u001b[0m\u001b[0;34m\u001b[0m\u001b[0;34m\u001b[0m\u001b[0m\n",
      "\u001b[0;31mTypeError\u001b[0m: 'method' object is not iterable"
     ]
    }
   ],
   "source": [
    "for i , j in df.iterrows:\n",
    "    WESTLAKEAVE.add(i, j)"
   ]
  },
  {
   "cell_type": "code",
   "execution_count": 12,
   "metadata": {},
   "outputs": [
    {
     "output_type": "execute_result",
     "data": {
      "text/plain": [
       "Empty DataFrame\n",
       "Columns: []\n",
       "Index: []"
      ],
      "text/html": "<div>\n<style scoped>\n    .dataframe tbody tr th:only-of-type {\n        vertical-align: middle;\n    }\n\n    .dataframe tbody tr th {\n        vertical-align: top;\n    }\n\n    .dataframe thead th {\n        text-align: right;\n    }\n</style>\n<table border=\"1\" class=\"dataframe\">\n  <thead>\n    <tr style=\"text-align: right;\">\n      <th></th>\n    </tr>\n  </thead>\n  <tbody>\n  </tbody>\n</table>\n</div>"
     },
     "metadata": {},
     "execution_count": 12
    }
   ],
   "source": [
    "WESTLAKEAVE"
   ]
  },
  {
   "cell_type": "code",
   "execution_count": null,
   "metadata": {},
   "outputs": [],
   "source": []
  }
 ]
}